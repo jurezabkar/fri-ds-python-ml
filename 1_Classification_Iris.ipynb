{
 "cells": [
  {
   "cell_type": "markdown",
   "id": "de22cc6e",
   "metadata": {},
   "source": [
    "### Predictive modelling with Python\n",
    "\n",
    "*Jure Žabkar*\n",
    "\n",
    "*Thu, 25 April 2024*\n",
    "\n",
    "---\n",
    "\n",
    "### Importing data\n",
    "(Help on [csv](https://pandas.pydata.org/pandas-docs/stable/user_guide/io.html#io-read-csv-table) and [excel](https://pandas.pydata.org/pandas-docs/stable/user_guide/io.html#io-excel-reader))\n",
    "\n",
    "From **sklearn's internal datasets**, e.g.:"
   ]
  },
  {
   "cell_type": "code",
   "execution_count": null,
   "id": "f87a6238",
   "metadata": {},
   "outputs": [],
   "source": [
    "import pandas as pd\n",
    "iris = pd.read_csv('datasets/Iris.csv')"
   ]
  },
  {
   "cell_type": "code",
   "execution_count": null,
   "id": "2bd288bd",
   "metadata": {},
   "outputs": [],
   "source": [
    "iris"
   ]
  },
  {
   "cell_type": "code",
   "execution_count": null,
   "id": "732bcae3",
   "metadata": {},
   "outputs": [],
   "source": [
    "iris.head()"
   ]
  },
  {
   "cell_type": "code",
   "execution_count": null,
   "id": "a23ee38c",
   "metadata": {},
   "outputs": [],
   "source": [
    "iris.info()"
   ]
  },
  {
   "cell_type": "code",
   "execution_count": null,
   "id": "bfe73fa8",
   "metadata": {
    "scrolled": true
   },
   "outputs": [],
   "source": [
    "iris.describe()"
   ]
  },
  {
   "cell_type": "code",
   "execution_count": null,
   "id": "d5f09cb1",
   "metadata": {},
   "outputs": [],
   "source": [
    "from sklearn import tree\n",
    "import matplotlib.pyplot as plt\n",
    "import seaborn as sns"
   ]
  },
  {
   "cell_type": "code",
   "execution_count": null,
   "id": "17f124f6",
   "metadata": {},
   "outputs": [],
   "source": [
    "sns.scatterplot(x='PetalLengthCm', y='PetalWidthCm',  hue='Species', data=iris, )\n",
    "plt.legend(loc='upper left')\n",
    "plt.show()"
   ]
  },
  {
   "cell_type": "code",
   "execution_count": null,
   "id": "99744b7a",
   "metadata": {},
   "outputs": [],
   "source": [
    "sns.pairplot(iris.drop(['Id'], axis = 1), hue='Species', height=2)"
   ]
  },
  {
   "cell_type": "code",
   "execution_count": null,
   "id": "8e8fa94a",
   "metadata": {},
   "outputs": [],
   "source": [
    "plot = sns.FacetGrid(iris, hue=\"Species\")\n",
    "plot.map(sns.histplot, \"SepalLengthCm\").add_legend()\n",
    "  \n",
    "plot = sns.FacetGrid(iris, hue=\"Species\")\n",
    "plot.map(sns.histplot, \"SepalWidthCm\").add_legend()\n",
    "  \n",
    "plot = sns.FacetGrid(iris, hue=\"Species\")\n",
    "plot.map(sns.histplot, \"PetalLengthCm\").add_legend()\n",
    "  \n",
    "plot = sns.FacetGrid(iris, hue=\"Species\")\n",
    "plot.map(sns.histplot, \"PetalWidthCm\").add_legend()\n",
    "  \n",
    "plt.show()"
   ]
  },
  {
   "cell_type": "code",
   "execution_count": null,
   "id": "bd44a466",
   "metadata": {},
   "outputs": [],
   "source": [
    "plt.figure(figsize=(10,10))\n",
    "      \n",
    "plt.subplot(221)\n",
    "sns.boxplot(x=\"Species\", y='SepalLengthCm', data=iris)\n",
    "  \n",
    "plt.subplot(222)\n",
    "sns.boxplot(x=\"Species\", y='SepalWidthCm', data=iris)\n",
    "  \n",
    "plt.subplot(223)\n",
    "sns.boxplot(x=\"Species\", y='PetalLengthCm', data=iris)\n",
    "  \n",
    "plt.subplot(224)\n",
    "sns.boxplot(x=\"Species\", y='PetalWidthCm', data=iris)\n",
    "  \n",
    "plt.show()"
   ]
  },
  {
   "cell_type": "code",
   "execution_count": null,
   "id": "46cc7e84",
   "metadata": {},
   "outputs": [],
   "source": [
    "feature_names = iris.columns[1:-1]\n",
    "class_names = iris.columns[-1]\n",
    "X = iris[iris.columns[1:-1]]\n",
    "y = iris[iris.columns[-1]]\n",
    "clf = tree.DecisionTreeClassifier(criterion='entropy')\n",
    "clf = clf.fit(X, y)"
   ]
  },
  {
   "cell_type": "code",
   "execution_count": null,
   "id": "14195a7a",
   "metadata": {},
   "outputs": [],
   "source": [
    "fig = plt.figure(figsize=[20,10])\n",
    "ax = plt.gca()\n",
    "tree.plot_tree(clf, filled=True, ax=ax, class_names = class_names, feature_names=feature_names)\n",
    "plt.show()"
   ]
  },
  {
   "cell_type": "code",
   "execution_count": null,
   "id": "6948038f",
   "metadata": {},
   "outputs": [],
   "source": [
    "fig.savefig(\"iris_tree.png\")"
   ]
  }
 ],
 "metadata": {
  "kernelspec": {
   "display_name": "Python 3 (ipykernel)",
   "language": "python",
   "name": "python3"
  },
  "language_info": {
   "codemirror_mode": {
    "name": "ipython",
    "version": 3
   },
   "file_extension": ".py",
   "mimetype": "text/x-python",
   "name": "python",
   "nbconvert_exporter": "python",
   "pygments_lexer": "ipython3",
   "version": "3.10.13"
  }
 },
 "nbformat": 4,
 "nbformat_minor": 5
}
