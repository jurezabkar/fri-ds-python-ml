{
 "cells": [
  {
   "cell_type": "markdown",
   "id": "8ea4d1b1",
   "metadata": {},
   "source": [
    "### Classification: Iris pipeline example\n",
    "\n",
    "*Jure Žabkar*\n",
    "\n",
    "*Thu, 25 April 2024*\n",
    "\n",
    "---"
   ]
  },
  {
   "cell_type": "code",
   "execution_count": 1,
   "id": "d5f09cb1",
   "metadata": {},
   "outputs": [],
   "source": [
    "#from sklearn.datasets import load_iris\n",
    "from sklearn import tree\n",
    "import matplotlib.pyplot as plt\n",
    "import pandas as pd\n",
    "import seaborn as sns"
   ]
  },
  {
   "cell_type": "code",
   "execution_count": 2,
   "id": "6a0aed9c",
   "metadata": {},
   "outputs": [],
   "source": [
    "iris = pd.read_csv('datasets/Iris.csv')"
   ]
  },
  {
   "cell_type": "code",
   "execution_count": 3,
   "id": "b4696841",
   "metadata": {},
   "outputs": [
    {
     "data": {
      "text/plain": [
       "Index(['SepalLengthCm', 'SepalWidthCm', 'PetalLengthCm', 'PetalWidthCm',\n",
       "       'Species'],\n",
       "      dtype='object')"
      ]
     },
     "execution_count": 3,
     "metadata": {},
     "output_type": "execute_result"
    }
   ],
   "source": [
    "new_iris = iris.drop(\"Id\", axis=1)\n",
    "X = iris[iris.columns[1:-1]]\n",
    "y = iris[iris.columns[-1]]\n",
    "new_iris.columns"
   ]
  },
  {
   "cell_type": "code",
   "execution_count": 4,
   "id": "77ef28ec",
   "metadata": {},
   "outputs": [],
   "source": [
    "from sklearn.model_selection import train_test_split\n",
    "X_train, X_test, y_train, y_test = train_test_split(X, y, test_size=0.2, random_state=4, stratify=y)"
   ]
  },
  {
   "cell_type": "code",
   "execution_count": 5,
   "id": "eeb00de3",
   "metadata": {},
   "outputs": [],
   "source": [
    "from sklearn.tree import DecisionTreeClassifier\n",
    "from sklearn.ensemble import RandomForestClassifier, AdaBoostClassifier\n",
    "from sklearn.naive_bayes import GaussianNB\n",
    "from sklearn.discriminant_analysis import QuadraticDiscriminantAnalysis\n",
    "from sklearn.neural_network import MLPClassifier\n",
    "from sklearn.neighbors import KNeighborsClassifier\n",
    "from sklearn.svm import SVC"
   ]
  },
  {
   "cell_type": "code",
   "execution_count": 6,
   "id": "e38f34d4",
   "metadata": {},
   "outputs": [],
   "source": [
    "models = [\n",
    "    DecisionTreeClassifier(criterion='entropy'),\n",
    "    KNeighborsClassifier(3),\n",
    "    SVC(kernel=\"linear\", C=0.025),\n",
    "    RandomForestClassifier(max_depth=5, n_estimators=10, max_features=1),\n",
    "    MLPClassifier(max_iter=1000),\n",
    "    AdaBoostClassifier(),\n",
    "    GaussianNB(),\n",
    "    QuadraticDiscriminantAnalysis(),\n",
    "]"
   ]
  },
  {
   "cell_type": "code",
   "execution_count": 7,
   "id": "bbbe7658",
   "metadata": {},
   "outputs": [
    {
     "name": "stdout",
     "output_type": "stream",
     "text": [
      "0.93 ± 0.02\tDecisionTreeClassifier\n",
      "0.97 ± 0.02\tKNeighborsClassifier\n",
      "0.96 ± 0.03\tSVC\n",
      "0.95 ± 0.03\tRandomForestClassifier\n",
      "0.98 ± 0.02\tMLPClassifier\n",
      "0.90 ± 0.04\tAdaBoostClassifier\n",
      "0.95 ± 0.04\tGaussianNB\n",
      "0.97 ± 0.02\tQuadraticDiscriminantAnalysis\n"
     ]
    }
   ],
   "source": [
    "# CROSS VALIDATION\n",
    "from sklearn.model_selection import cross_val_score\n",
    "for clf in models:\n",
    "    scores = cross_val_score(clf, X_train, y_train, cv=5)\n",
    "    print(f\"{scores.mean():.2f} ± {scores.std():.2f}\\t{str(clf).split('(')[0]}\")"
   ]
  },
  {
   "cell_type": "code",
   "execution_count": 8,
   "id": "7a7170d9",
   "metadata": {},
   "outputs": [
    {
     "name": "stdout",
     "output_type": "stream",
     "text": [
      "0.97\tDecisionTreeClassifier(criterion='entropy')\n",
      "0.97\tKNeighborsClassifier(n_neighbors=3)\n",
      "0.97\tSVC(C=0.025, kernel='linear')\n",
      "0.93\tRandomForestClassifier(max_depth=5, max_features=1, n_estimators=10)\n",
      "0.93\tMLPClassifier(max_iter=1000)\n",
      "0.97\tAdaBoostClassifier()\n",
      "1.00\tGaussianNB()\n",
      "0.93\tQuadraticDiscriminantAnalysis()\n"
     ]
    }
   ],
   "source": [
    "for clf in models:\n",
    "    clf.fit(X_train, y_train)\n",
    "    score = clf.score(X_test, y_test)\n",
    "    print(f\"{score:.2f}\\t{clf}\")"
   ]
  }
 ],
 "metadata": {
  "kernelspec": {
   "display_name": "Python 3 (ipykernel)",
   "language": "python",
   "name": "python3"
  },
  "language_info": {
   "codemirror_mode": {
    "name": "ipython",
    "version": 3
   },
   "file_extension": ".py",
   "mimetype": "text/x-python",
   "name": "python",
   "nbconvert_exporter": "python",
   "pygments_lexer": "ipython3",
   "version": "3.10.13"
  }
 },
 "nbformat": 4,
 "nbformat_minor": 5
}
