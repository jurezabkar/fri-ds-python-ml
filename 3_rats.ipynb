{
 "cells": [
  {
   "cell_type": "markdown",
   "metadata": {},
   "source": [
    "### Predictive modelling with Python\n",
    "\n",
    "*Jure Žabkar*\n",
    "\n",
    "*Thu, 25 April 2024*\n",
    "\n",
    "---"
   ]
  },
  {
   "cell_type": "code",
   "execution_count": null,
   "metadata": {},
   "outputs": [],
   "source": [
    "import numpy as np\n",
    "import pandas as pd\n",
    "%matplotlib inline\n",
    "import matplotlib.pyplot as plt\n",
    "#plt.rcParams['figure.figsize'] = [10, 7]\n",
    "plt.rcParams['figure.dpi'] = 150 # makes figures bigger"
   ]
  },
  {
   "cell_type": "markdown",
   "metadata": {},
   "source": [
    "After the initial data set with only 10 samples, let's go rat hunting and collect more data. We store the data in the file and create a new scatter plot for the entire rat collection.\n",
    "Visualizing data helps us gain more insight: rat size increases with increasing weight, but really fat rats are not the biggest. A possible explanation would be, for example, that excessive weight is due to genetic or health related problem, not the size of the rat."
   ]
  },
  {
   "cell_type": "code",
   "execution_count": null,
   "metadata": {},
   "outputs": [],
   "source": [
    "rats = pd.read_csv('datasets/rats-obesity-100examples.csv')\n",
    "\n",
    "rats.plot.scatter(x='weight', y='size');\n",
    "plt.xlabel(\"weight [dag]\");\n",
    "plt.ylabel(\"size [cm]\");"
   ]
  },
  {
   "cell_type": "markdown",
   "metadata": {},
   "source": [
    "Assuming we had enough rat hunting, this is all the data we could collect.\n",
    "Our next step will be to put some data aside, so that we could learn/train our model on one subset and test it on another one. It is very important to train and test on different data sets.\n",
    "There are many possible ways of how we can do this; this time we will take 70% of our data foir training and the remaining 30% for testing."
   ]
  },
  {
   "cell_type": "code",
   "execution_count": null,
   "metadata": {},
   "outputs": [],
   "source": [
    "from sklearn.model_selection import train_test_split\n",
    "X_train, X_test, y_train, y_test = train_test_split(rats[\"weight\"], rats[\"size\"], test_size=0.3, random_state=42);\n",
    "\n",
    "plt.plot(X_train, y_train, \"b.\", label=\"training data\");\n",
    "plt.plot(X_test, y_test, \"r.\", label=\"test data\");\n",
    "plt.xlabel(\"weight [dag]\");\n",
    "plt.ylabel(\"size [cm]\");\n",
    "plt.title(\"Rats\");\n",
    "plt.legend(loc=\"best\");"
   ]
  },
  {
   "cell_type": "markdown",
   "metadata": {},
   "source": [
    "The correlation between weight and size indicates a strong relation."
   ]
  },
  {
   "cell_type": "code",
   "execution_count": null,
   "metadata": {},
   "outputs": [],
   "source": [
    "df = pd.DataFrame(data={\"X_train\":X_train, \"y_train\":y_train})\n",
    "df.corr()"
   ]
  },
  {
   "cell_type": "markdown",
   "metadata": {},
   "source": [
    "Our next goal is to use the **training set** to build the model for prediction of rat's size, given its weight."
   ]
  },
  {
   "cell_type": "code",
   "execution_count": null,
   "metadata": {},
   "outputs": [],
   "source": [
    "from sklearn.linear_model import LinearRegression\n",
    "\n",
    "X_train = X_train.values.reshape(-1,1)\n",
    "X_test = X_test.values.reshape(-1, 1)\n",
    "\n",
    "lin_reg = LinearRegression()\n",
    "lin_reg.fit(X_train, y_train)\n",
    "print('Linear regression model:\\ny = {:.2f} x + {:.2f}'.format(lin_reg.coef_[0], lin_reg.intercept_));\n",
    "plt.plot(X_train, y_train, \"b.\", label=\"training data\")\n",
    "xlr = [min(X_train), max(X_train)]\n",
    "ylr = lin_reg.predict(xlr)\n",
    "plt.plot(xlr, ylr, \"k-\", label=\"linear regression model\")\n",
    "plt.plot(X_test, y_test, \"ro\", label=\"test data\")\n",
    "\n",
    "plt.xlabel(\"weight [dag]\");\n",
    "plt.ylabel(\"size [cm]\");\n",
    "#plt.title(\"Linear regression: High bias, low variance\");\n",
    "plt.legend(loc=\"best\");"
   ]
  },
  {
   "cell_type": "markdown",
   "metadata": {},
   "source": [
    "The obtained model is obviously too simple to catch the complexity of the underlying data. We say it has a high bias.\n",
    "\n",
    "**BIAS** = Average prediction of the model - the correct value\n",
    "\n",
    "Model with high bias doesn't care much about the training data, oversimplifies the model.\n",
    "\n",
    "A model with high bias leads to high error on training and test data. We can verify this:"
   ]
  },
  {
   "cell_type": "code",
   "execution_count": null,
   "metadata": {},
   "outputs": [],
   "source": [
    "from sklearn.metrics import mean_squared_error, r2_score\n",
    "\n",
    "y_pred = lin_reg.predict(X_test)\n",
    "print(\"Model performance on TEST data:\")\n",
    "print(\"Mean squared error: {:.2f}\".format(mean_squared_error(y_test, y_pred) ))\n",
    "print('Variance score: {:.2f}\\n'.format(r2_score(y_test, y_pred) ))\n",
    "\n",
    "y_pred_train = lin_reg.predict(X_train)\n",
    "print(\"Model performance on TRAIN data:\")\n",
    "print(\"Mean squared error: {:.2f}\".format(mean_squared_error(y_train, y_pred_train) ))\n",
    "print('Variance score: {:.2f}'.format(r2_score(y_train, y_pred_train) ))"
   ]
  },
  {
   "cell_type": "markdown",
   "metadata": {},
   "source": [
    "To reduce the bias we should learn a more complex model.\n",
    "\n",
    "What can we do to enable linear regression to come up with something better? One way is to construct new features: what kind of features would be useful here?\n",
    "\n",
    "A domain expert is usually the right person to talk to when we start thinking about constructing new features. In our simple 2D example, we can be good domain experts ourselves.\n",
    "\n",
    "A higher degree polinomial would certainly fit the training data better than the above linear model. It seems that would solve our problem, so let's try it out."
   ]
  },
  {
   "cell_type": "code",
   "execution_count": null,
   "metadata": {},
   "outputs": [],
   "source": [
    "from sklearn.pipeline import Pipeline\n",
    "from sklearn.preprocessing import PolynomialFeatures\n",
    "\n",
    "poly = PolynomialFeatures(degree=7)\n",
    "poly.fit_transform(X_train)\n"
   ]
  },
  {
   "cell_type": "markdown",
   "metadata": {},
   "source": [
    "By the way, we introduced a very useful feature of sklearn - **the pipeline**. The pipeline helps us in constructing data transformations so that we can carry them out on test data in the exactly the same way as we do on our training data."
   ]
  },
  {
   "cell_type": "code",
   "execution_count": null,
   "metadata": {},
   "outputs": [],
   "source": [
    "poly_pipe = Pipeline([('poly', PolynomialFeatures(degree=19)),\n",
    "                  ('linear', LinearRegression())])\n",
    "poly = poly_pipe.fit(X_train, y_train)"
   ]
  },
  {
   "cell_type": "code",
   "execution_count": null,
   "metadata": {},
   "outputs": [],
   "source": [
    "y_pred_poly = poly.predict(X_test);\n",
    "plt.plot(X_train, y_train, \"b.\", label=\"training data\");\n",
    "\n",
    "X_test4 = np.linspace(1, 6.8, 100)\n",
    "X_test4 = X_test4.reshape(-1, 1)\n",
    "y_test4 = poly.predict(X_test4)\n",
    "\n",
    "plt.plot(X_test4, y_test4, \"k-\", label=\"13th degree polynomial model\")\n",
    "plt.plot(X_test, y_test, \"ro\", label=\"test data\")\n",
    "\n",
    "plt.xlabel(\"weight [dag]\")\n",
    "plt.ylabel(\"size [cm]\")\n",
    "\n",
    "print(\"Model performance on TEST data:\")\n",
    "print(\"Mean squared error: {:.2f}\".format(mean_squared_error(y_test, y_pred_poly) ))\n",
    "print('Variance score: {:.2f}\\n'.format(r2_score(y_test, y_pred_poly) ))\n",
    "\n",
    "y_pred_train = poly.predict(X_train)\n",
    "print(\"Model performance on TRAIN data:\")\n",
    "print(\"Mean squared error: {:.2f}\".format(mean_squared_error(y_train, y_pred_train) ))\n",
    "print('Variance score: {:.2f}'.format(r2_score(y_train, y_pred_train) ))"
   ]
  },
  {
   "cell_type": "markdown",
   "metadata": {},
   "source": [
    "A high-degree polynomial effectively reduces the bias, but at the same time increases the variance.\n",
    "\n",
    "**Variance** is the variability of model prediction for a given data point. Model with high variance pays a lot of attention to training data (**overfitting**) but does not generalize well on new data.\n",
    "\n",
    "Such models perform very well on training data but have high errors on test data.\n",
    "\n",
    "To get a better model, we will reduce the degree of the polynomial. From observing the above scatterplot, we can assume a quadratic relation (2nd degree polynomial) between the size and the weight..."
   ]
  },
  {
   "cell_type": "code",
   "execution_count": null,
   "metadata": {},
   "outputs": [],
   "source": [
    "poly_model = Pipeline([('poly', PolynomialFeatures(degree=2)),\n",
    "                  ('linear', LinearRegression())])\n",
    "poly_model = poly_model.fit(X_train, y_train)\n",
    "#print(poly_model.named_steps['linear'].coef_)\n",
    "\n",
    "Y_pred_poly = poly_model.predict(X_test)\n",
    "plt.plot(X_train, y_train, \"b.\", label=\"train data\")\n",
    "\n",
    "X_test2 = np.linspace(1, 7, 100)\n",
    "X_test2 = X_test2.reshape(-1, 1)\n",
    "Y_test2 = poly_model.predict(X_test2)\n",
    "plt.plot(X_test2, Y_test2, \"k-\", label=\"2nd deg poly\")\n",
    "plt.plot(X_test, y_test, \"ro\", label=\"test data\")\n",
    "\n",
    "y_true = - ((X_test2-5)**2) +25\n",
    "plt.plot(X_test2, y_true, \"g-\", label=\"true y\")\n",
    "\n",
    "plt.xlabel(\"weight [dag]\")\n",
    "plt.ylabel(\"size [cm]\")\n",
    "plt.title(\"2nd degree polynomial regression: Low bias, low variance\")\n",
    "plt.legend(loc=\"best\")\n",
    "\n",
    "print(\"Model performance on TEST data:\")\n",
    "print(\"Mean squared error: {:.2f}\".format(mean_squared_error(y_test, Y_pred_poly) ))\n",
    "print('Variance score: {:.2f}\\n'.format(r2_score(y_test, Y_pred_poly) ))\n",
    "\n",
    "y_pred_train2 = poly_model.predict(X_train)\n",
    "print(\"Model performance on TRAIN data:\")\n",
    "print(\"Mean squared error: {:.2f}\".format(mean_squared_error(y_train, y_pred_train2) ))\n",
    "print('Variance score: {:.2f}'.format(r2_score(y_train, y_pred_train2) ))"
   ]
  },
  {
   "cell_type": "markdown",
   "metadata": {},
   "source": [
    "... and get just the right fit :)\n",
    "\n",
    "However, fitting the model to test data as we did above is not allowed! We did so to illustrate the bias-variance trade-off.\n",
    "\n",
    "Bellow, we show how to find the best model the right way. To do so, we only use training data and perform so called internal cross-validation. At the end, we test the final model on test data."
   ]
  },
  {
   "cell_type": "code",
   "execution_count": null,
   "metadata": {},
   "outputs": [],
   "source": [
    "print(\"Fine tuning the models with internal cross-validation\")\n",
    "from sklearn.model_selection import GridSearchCV"
   ]
  },
  {
   "cell_type": "code",
   "execution_count": null,
   "metadata": {},
   "outputs": [],
   "source": [
    "import warnings\n",
    "warnings.filterwarnings('ignore')"
   ]
  },
  {
   "cell_type": "code",
   "execution_count": null,
   "metadata": {},
   "outputs": [],
   "source": [
    "pf = PolynomialFeatures()\n",
    "lr = LinearRegression()\n",
    "\n",
    "poly_model = Pipeline([('poly', pf), ('linear', lr)])\n",
    "parameters = {'poly__degree': range(2,20),\n",
    "              'linear__fit_intercept': [True, False],\n",
    "              'linear__normalize': [True, False]\n",
    "             }\n",
    "\n",
    "grid_search = GridSearchCV(poly_model, parameters, cv=5, scoring='neg_mean_squared_error')\n",
    "grid_search.fit(X_train, y_train)\n",
    "\n",
    "cvres = grid_search.cv_results_\n",
    "for mean_score, params in zip(cvres[\"mean_test_score\"], cvres[\"params\"]):\n",
    "    #print(np.sqrt(-mean_score), params)\n",
    "    pass\n",
    "\n",
    "print(grid_search.best_params_)\n",
    "\n",
    "print(\"Final testing...\")\n",
    "final_model = grid_search.best_estimator_"
   ]
  },
  {
   "cell_type": "code",
   "execution_count": null,
   "metadata": {},
   "outputs": [],
   "source": [
    "lr_final = final_model['linear']\n",
    "cfs = lr_final.coef_\n",
    "print(cfs)\n",
    "\n",
    "x1 = np.linspace(1,6.9,100)\n",
    "y1 = - ((x1-5)**2) +25\n",
    "y2 = cfs[0] + cfs[1]*x1 + cfs[2]* x1**2\n",
    "plt.plot(x1, y1, \"g-\", label=\"true y\");\n",
    "plt.plot(x1, y2, \"b-\", label=\"model\");\n",
    "plt.legend(loc=\"best\");"
   ]
  },
  {
   "cell_type": "code",
   "execution_count": null,
   "metadata": {},
   "outputs": [],
   "source": [
    "y_final = final_model.predict(X_test)\n",
    "plt.plot(X_train, y_train, \"b.\", label=\"train data\")\n",
    "plt.plot(X_test, y_test, \"ro\", label=\"test data\")\n",
    "\n",
    "y_true = - ((X_test2-5)**2) +25\n",
    "plt.plot(X_test2, y_true, \"g-\", label=\"true y\")\n",
    "\n",
    "plt.xlabel(\"weight [dag]\")\n",
    "plt.ylabel(\"size [cm]\")\n",
    "plt.title(\"2nd degree polynomial regression: Low bias, low variance\")\n",
    "plt.legend(loc=\"best\")\n",
    "\n",
    "print(\"Model performance on TEST data:\")\n",
    "print(\"Mean squared error: {:.2f}\".format(mean_squared_error(y_test, y_final) ))\n",
    "print('Variance score: {:.2f}\\n'.format(r2_score(y_test, y_final) ))\n",
    "\n",
    "y_final_train = final_model.predict(X_train)\n",
    "print(\"Model performance on TRAIN data:\")\n",
    "print(\"Mean squared error: {:.2f}\".format(mean_squared_error(y_train, y_final_train) ))\n",
    "print('Variance score: {:.2f}'.format(r2_score(y_train, y_final_train) ))"
   ]
  }
 ],
 "metadata": {
  "kernelspec": {
   "display_name": "Python 3 (ipykernel)",
   "language": "python",
   "name": "python3"
  },
  "language_info": {
   "codemirror_mode": {
    "name": "ipython",
    "version": 3
   },
   "file_extension": ".py",
   "mimetype": "text/x-python",
   "name": "python",
   "nbconvert_exporter": "python",
   "pygments_lexer": "ipython3",
   "version": "3.10.13"
  }
 },
 "nbformat": 4,
 "nbformat_minor": 2
}
